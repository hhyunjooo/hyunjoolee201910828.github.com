{
 "cells": [
  {
   "cell_type": "markdown",
   "id": "3c5e6fba",
   "metadata": {},
   "source": [
    "# 1. 로지스틱 회귀-합격 여부 판단"
   ]
  },
  {
   "cell_type": "code",
   "execution_count": 3,
   "id": "e7391cdb",
   "metadata": {},
   "outputs": [
    {
     "name": "stdout",
     "output_type": "stream",
     "text": [
      "          ex1        ex2  Admitted\n",
      "0   34.623660  78.024693         0\n",
      "1   30.286711  43.894998         0\n",
      "2   35.847409  72.902198         0\n",
      "3   60.182599  86.308552         1\n",
      "4   79.032736  75.344376         1\n",
      "..        ...        ...       ...\n",
      "95  83.489163  48.380286         1\n",
      "96  42.261701  87.103851         1\n",
      "97  99.315009  68.775409         1\n",
      "98  55.340018  64.931938         1\n",
      "99  74.775893  89.529813         1\n",
      "\n",
      "[100 rows x 3 columns]\n"
     ]
    }
   ],
   "source": [
    "import numpy as np\n",
    "import pandas as pd\n",
    "data=pd.read_csv('admit.txt', names=['ex1', 'ex2', 'Admitted'])\n",
    "print(data)\n",
    "\n",
    "X=np.c_[data['ex1'], data['ex2']]\n",
    "y=data['Admitted']\n",
    "m=len(data)"
   ]
  },
  {
   "cell_type": "code",
   "execution_count": 4,
   "id": "ef909782",
   "metadata": {},
   "outputs": [
    {
     "name": "stdout",
     "output_type": "stream",
     "text": [
      "(100, 2) (100,)\n"
     ]
    }
   ],
   "source": [
    "print(X.shape, y.shape)"
   ]
  },
  {
   "cell_type": "code",
   "execution_count": 6,
   "id": "fb1557e4",
   "metadata": {},
   "outputs": [
    {
     "name": "stdout",
     "output_type": "stream",
     "text": [
      "[3, 4, 6, 7, 8, 9, 12, 13, 15, 16, 18, 19, 21, 24, 25, 26, 30, 31, 33, 37, 40, 42, 46, 47, 48, 49, 50, 51, 52, 56, 58, 59, 60, 66, 68, 69, 71, 72, 73, 74, 75, 76, 77, 80, 81, 82, 83, 84, 85, 87, 88, 90, 91, 93, 94, 95, 96, 97, 98, 99]\n",
      "[0, 1, 2, 5, 10, 11, 14, 17, 20, 22, 23, 27, 28, 29, 32, 34, 35, 36, 38, 39, 41, 43, 44, 45, 53, 54, 55, 57, 61, 62, 63, 64, 65, 67, 70, 78, 79, 86, 89, 92]\n"
     ]
    }
   ],
   "source": [
    "pos=[]\n",
    "neg=[]\n",
    "\n",
    "for (i, val) in enumerate(y):\n",
    "    if val==1:\n",
    "        pos.append(i)\n",
    "    else:\n",
    "        neg.append(i)\n",
    "\n",
    "print(pos)\n",
    "print(neg)"
   ]
  },
  {
   "cell_type": "code",
   "execution_count": 7,
   "id": "917ab699",
   "metadata": {},
   "outputs": [
    {
     "data": {
      "image/png": "[encoded data removed]",
      "text/plain": [
       "<Figure size 432x288 with 1 Axes>"
      ]
     },
     "metadata": {
      "needs_background": "light"
     },
     "output_type": "display_data"
    }
   ],
   "source": [
    "import matplotlib.pyplot as plt\n",
    "plt.plot(X[pos,0].reshape(-1), X[pos,1].reshape(-1), 'b+', label='Admitted')\n",
    "plt.plot(X[neg,0].reshape(-1), X[neg,1].reshape(-1), 'ro', label='Not Admitted')\n",
    "plt.xlabel(\"Exam 1 score\")\n",
    "plt.ylabel(\"Exam 2 score\")\n",
    "plt.legend(loc='upper right')\n",
    "plt.show()"
   ]
  },
  {
   "cell_type": "code",
   "execution_count": 8,
   "id": "a2b70134",
   "metadata": {},
   "outputs": [
    {
     "data": {
      "text/plain": [
       "LogisticRegression(C=10, solver='liblinear')"
      ]
     },
     "execution_count": 8,
     "metadata": {},
     "output_type": "execute_result"
    }
   ],
   "source": [
    "from sklearn.linear_model import LogisticRegression\n",
    "\n",
    "log_reg=LogisticRegression(solver='liblinear', C=10)\n",
    "log_reg.fit(X, y)"
   ]
  },
  {
   "cell_type": "code",
   "execution_count": 9,
   "id": "90f30785",
   "metadata": {},
   "outputs": [
    {
     "data": {
      "text/plain": [
       "array([0, 1])"
      ]
     },
     "execution_count": 9,
     "metadata": {},
     "output_type": "execute_result"
    }
   ],
   "source": [
    "log_reg.predict([[30,70], [50,90]])"
   ]
  },
  {
   "cell_type": "code",
   "execution_count": 12,
   "id": "7a5cfbfa",
   "metadata": {},
   "outputs": [
    {
     "name": "stderr",
     "output_type": "stream",
     "text": [
      "/home/ec2-user/anaconda3/envs/pytorch_p36/lib/python3.6/site-packages/ipykernel/__main__.py:9: MatplotlibDeprecationWarning: shading='flat' when X and Y have the same dimensions as C is deprecated since 3.3.  Either specify the corners of the quadrilaterals with X and Y, or pass shading='auto', 'nearest' or 'gouraud', or set rcParams['pcolor.shading'].  This will become an error two minor releases later.\n"
     ]
    },
    {
     "data": {
      "image/png": "[encoded data removed]",
      "text/plain": [
       "<Figure size 432x288 with 1 Axes>"
      ]
     },
     "metadata": {},
     "output_type": "display_data"
    }
   ],
   "source": [
    "x_min, x_max= X[:, 0].min(), X[:, 0].max()\n",
    "y_min, y_max= X[:, 1].min(), X[:, 1].max()\n",
    "h=.2\n",
    "xx, yy=np.meshgrid(np.arange(x_min, y_max, h), np.arange(y_min, y_max, h))\n",
    "Z= log_reg.predict(np.c_[xx.ravel(), yy.ravel()])\n",
    "\n",
    "Z=Z.reshape(xx.shape)\n",
    "plt.figure(1)\n",
    "plt.pcolormesh(xx, yy, Z, cmap=plt.cm.Paired)\n",
    "\n",
    "plt.plot(X[pos,0].reshape(-1), X[pos,1].reshape(-1), 'b+', label='Passed')\n",
    "plt.plot(X[neg,0].reshape(-1), X[neg,1].reshape(-1), 'ro', label='Not passed')\n",
    "plt.xlabel(\"Microchip Test 1\")\n",
    "plt.ylabel(\"Microchip Test 2\")\n",
    "plt.legend(loc='upper right')\n",
    "\n",
    "plt.xlim(xx.min(), yy.max())\n",
    "plt.ylim(xx.min(), yy.max())\n",
    "plt.xticks(())\n",
    "plt.yticks(())\n",
    "\n",
    "plt.show()"
   ]
  },
  {
   "cell_type": "markdown",
   "id": "f2520a99",
   "metadata": {},
   "source": [
    "# 2. 로지스틱 회귀+정규화: 반도체 불량품 여부 판단"
   ]
  },
  {
   "cell_type": "code",
   "execution_count": 1,
   "id": "66f426e9",
   "metadata": {},
   "outputs": [
    {
     "name": "stdout",
     "output_type": "stream",
     "text": [
      "           t1        t2  Passed\n",
      "0    0.051267  0.699560       1\n",
      "1   -0.092742  0.684940       1\n",
      "2   -0.213710  0.692250       1\n",
      "3   -0.375000  0.502190       1\n",
      "4   -0.513250  0.465640       1\n",
      "..        ...       ...     ...\n",
      "113 -0.720620  0.538740       0\n",
      "114 -0.593890  0.494880       0\n",
      "115 -0.484450  0.999270       0\n",
      "116 -0.006336  0.999270       0\n",
      "117  0.632650 -0.030612       0\n",
      "\n",
      "[118 rows x 3 columns]\n",
      "(118, 2) (118,)\n"
     ]
    }
   ],
   "source": [
    "import numpy as np\n",
    "import pandas as pd\n",
    "data=pd.read_csv('qa.txt', names=['t1', 't2', 'Passed'])\n",
    "print(data)\n",
    "\n",
    "X=np.c_[data['t1'], data['t2']]\n",
    "y=data['Passed']\n",
    "print(X.shape, y.shape)"
   ]
  },
  {
   "cell_type": "code",
   "execution_count": 4,
   "id": "73e87523",
   "metadata": {},
   "outputs": [
    {
     "name": "stdout",
     "output_type": "stream",
     "text": [
      "[0, 1, 2, 3, 4, 5, 6, 7, 8, 9, 10, 11, 12, 13, 14, 15, 16, 17, 18, 19, 20, 21, 22, 23, 24, 25, 26, 27, 28, 29, 30, 31, 32, 33, 34, 35, 36, 37, 38, 39, 40, 41, 42, 43, 44, 45, 46, 47, 48, 49, 50, 51, 52, 53, 54, 55, 56, 57]\n",
      "[58, 59, 60, 61, 62, 63, 64, 65, 66, 67, 68, 69, 70, 71, 72, 73, 74, 75, 76, 77, 78, 79, 80, 81, 82, 83, 84, 85, 86, 87, 88, 89, 90, 91, 92, 93, 94, 95, 96, 97, 98, 99, 100, 101, 102, 103, 104, 105, 106, 107, 108, 109, 110, 111, 112, 113, 114, 115, 116, 117]\n"
     ]
    }
   ],
   "source": [
    "pos=[]\n",
    "neg=[]\n",
    "\n",
    "for (i, val) in enumerate(y):\n",
    "    if val==1:\n",
    "        pos.append(i)\n",
    "    else:\n",
    "        neg.append(i)\n",
    "print(pos)\n",
    "print(neg)"
   ]
  },
  {
   "cell_type": "code",
   "execution_count": 5,
   "id": "c85cc346",
   "metadata": {},
   "outputs": [
    {
     "data": {
      "image/png": "[encoded data removed]",
      "text/plain": [
       "<Figure size 432x288 with 1 Axes>"
      ]
     },
     "metadata": {
      "needs_background": "light"
     },
     "output_type": "display_data"
    }
   ],
   "source": [
    "import matplotlib.pyplot as plt\n",
    "plt.plot(X[pos,0].reshape(-1), X[pos,1].reshape(-1), 'b+', label='Passed')\n",
    "plt.plot(X[neg,0].reshape(-1), X[neg,1].reshape(-1), 'ro', label='Failed')\n",
    "plt.xlabel('Microchip Test 1')\n",
    "plt.ylabel('Microchip Test 2')\n",
    "plt.legend(loc='upper right')\n",
    "plt.show()"
   ]
  },
  {
   "cell_type": "code",
   "execution_count": 8,
   "id": "ac7ef500",
   "metadata": {},
   "outputs": [
    {
     "name": "stdout",
     "output_type": "stream",
     "text": [
      "[0.051267 0.69956 ]\n",
      "(27,)\n"
     ]
    }
   ],
   "source": [
    "from sklearn.preprocessing import PolynomialFeatures\n",
    "degree=6\n",
    "ploy_features=PolynomialFeatures(degree=degree, include_bias=False)\n",
    "X_poly=ploy_features.fit_transform(X)\n",
    "\n",
    "print(X[0])\n",
    "print(X_poly[0].shape)"
   ]
  },
  {
   "cell_type": "code",
   "execution_count": 11,
   "id": "bc2a9609",
   "metadata": {},
   "outputs": [
    {
     "data": {
      "text/plain": [
       "LogisticRegression(C=0.1, solver='liblinear')"
      ]
     },
     "execution_count": 11,
     "metadata": {},
     "output_type": "execute_result"
    }
   ],
   "source": [
    "from sklearn.linear_model import LogisticRegression\n",
    "\n",
    "log_reg=LogisticRegression(penalty='l2', solver='liblinear', C=1e-1)\n",
    "log_reg.fit(X_poly, y)"
   ]
  },
  {
   "cell_type": "code",
   "execution_count": 18,
   "id": "2a468e7a",
   "metadata": {},
   "outputs": [
    {
     "name": "stderr",
     "output_type": "stream",
     "text": [
      "/home/ec2-user/anaconda3/envs/pytorch_p36/lib/python3.6/site-packages/ipykernel/__main__.py:14: UserWarning: No contour levels were found within the data range.\n"
     ]
    },
    {
     "data": {
      "image/png": "[encoded data removed]",
      "text/plain": [
       "<Figure size 432x288 with 1 Axes>"
      ]
     },
     "metadata": {
      "needs_background": "light"
     },
     "output_type": "display_data"
    }
   ],
   "source": [
    "import numpy as np\n",
    "u=np.linspace(-1, 1.5, 300)\n",
    "v=np.linspace(-1, 1.5, 300)\n",
    "z=np.zeros((len(u), len(v)))\n",
    "\n",
    "for i in range(len(u)):\n",
    "    a=[]\n",
    "    for j in range(len(v)):\n",
    "        a.append(np.array([u[i], v[j]]))\n",
    "        \n",
    "    my_data=ploy_features.fit_transform(a)\n",
    "    z[i]=log_reg.predict(my_data)\n",
    "    \n",
    "plt.contour(u,v,z,0)\n",
    "\n",
    "plt.plot(X[pos,0].reshape(-1), X[pos,1].reshape(-1), 'b+', label='Passed')\n",
    "plt.plot(X[neg,0].reshape(-1), X[neg,1].reshape(-1), 'ro', label='Failed')\n",
    "plt.xlabel('Microchip Test 1')\n",
    "plt.ylabel('Microchip Test 2')\n",
    "plt.legend(loc='upper right')\n",
    "plt.show()"
   ]
  },
  {
   "cell_type": "code",
   "execution_count": 20,
   "id": "02aadb63",
   "metadata": {},
   "outputs": [
    {
     "name": "stdout",
     "output_type": "stream",
     "text": [
      "[1 1 1 1 1 1 1 1 1 1 0 0 0 0 0 1 1 0 1 1 1 1 1 1 1 1 0 0 1 0 0 0 1 1 1 1 1\n",
      " 1 1 1 1 1 0 1 0 1 0 1 0 0 1 1 1 1 1 1 1 1 0 0 1 0 0 0 0 0 0 0 0 0 0 0 0 0\n",
      " 0 0 1 0 0 0 1 1 1 1 0 0 0 0 1 0 0 0 0 0 0 0 0 0 0 0 0 0 1 0 1 1 1 1 1 0 0\n",
      " 0 0 0 1 0 0 0]\n",
      "[[46 14]\n",
      " [16 42]]\n"
     ]
    },
    {
     "data": {
      "image/png": "[encoded data removed]",
      "text/plain": [
       "<Figure size 288x288 with 1 Axes>"
      ]
     },
     "metadata": {
      "needs_background": "light"
     },
     "output_type": "display_data"
    },
    {
     "name": "stdout",
     "output_type": "stream",
     "text": [
      "precision_score:  0.75\n",
      "recall_score:  0.7241379310344828\n",
      "F1_score:  0.736842105263158\n"
     ]
    }
   ],
   "source": [
    "y_pred=log_reg.predict(X_poly)\n",
    "print(y_pred)\n",
    "\n",
    "from sklearn.metrics import confusion_matrix\n",
    "conf_mat=confusion_matrix(y, y_pred)\n",
    "print(conf_mat)\n",
    "plt.matshow(conf_mat, cmap=plt.cm.gray)\n",
    "plt.show()\n",
    "\n",
    "from sklearn.metrics import precision_score, recall_score\n",
    "print(\"precision_score: \", precision_score(y, y_pred))\n",
    "print(\"recall_score: \", recall_score(y, y_pred))\n",
    "\n",
    "from sklearn.metrics import f1_score\n",
    "print(\"F1_score: \", f1_score(y, y_pred))"
   ]
  },
  {
   "cell_type": "code",
   "execution_count": 21,
   "id": "e8237981",
   "metadata": {},
   "outputs": [
    {
     "name": "stdout",
     "output_type": "stream",
     "text": [
      "[ 0.05721229  0.09031196  0.08026682  0.17053879  0.12428068  0.12804255\n",
      "  0.15762518  0.13103297  0.10611841  0.05698076 -0.02303367 -0.08009722\n",
      " -0.08781319 -0.21166892 -0.03087887  0.07336408  0.15980733 -0.10426686\n",
      "  0.07493999  0.06340612  0.01223171  0.06483144  0.05088184  0.06692669\n",
      "  0.09972027  0.0039081  -0.04642661 -0.2288355   0.19104147 -0.04422837\n",
      " -0.48582731 -0.06976624  0.12417891  0.20140773  0.20043654  0.18558606\n",
      "  0.14110412  0.17216763  0.17914447  0.08748364  0.12938355  0.05788662\n",
      " -0.07524136  0.10212642 -0.03704723  0.00922225 -0.25399059  0.14984191\n",
      " -0.08845407 -0.03267549  0.14628497  0.23248708  0.18795328  0.2312281\n",
      "  0.22583701  0.16968366  0.19363608  0.13978443 -0.47339273 -0.11374384\n",
      "  0.05569444 -0.27770043 -0.3643466  -0.1778768  -0.37102315 -0.73725405\n",
      " -0.39571626 -0.78450463 -0.69486198 -0.46788667 -0.5786725  -0.48962111\n",
      " -0.49382144 -0.4376614  -0.27751262 -0.10992105  0.0029229  -0.01829043\n",
      " -0.13858015 -0.09891484  0.02217236  0.07687025  0.01955373  0.08309043\n",
      " -0.16216551 -0.02832433 -0.06081424 -0.14156364  0.02597511 -0.3686108\n",
      " -0.37972945 -0.04142063 -0.06922482 -0.37741015 -0.59668064 -1.18241061\n",
      " -1.23462178 -0.30852966 -0.7849646  -0.68557665 -0.32835161 -1.29145658\n",
      "  0.02247742 -0.04331678  0.1060566   0.0247194   0.08914681  0.16969841\n",
      "  0.02081615 -0.06428006 -0.09046135 -0.08798572 -0.16530824 -0.0636558\n",
      "  0.0667766  -0.68509242 -0.64525137 -0.0478308 ]\n"
     ]
    }
   ],
   "source": [
    "y_scores=log_reg.decision_function(X_poly)\n",
    "print(y_scores)"
   ]
  },
  {
   "cell_type": "code",
   "execution_count": 23,
   "id": "dcd99731",
   "metadata": {},
   "outputs": [
    {
     "data": {
      "image/png": "[encoded data removed]",
      "text/plain": [
       "<Figure size 432x288 with 1 Axes>"
      ]
     },
     "metadata": {
      "needs_background": "light"
     },
     "output_type": "display_data"
    },
    {
     "name": "stdout",
     "output_type": "stream",
     "text": [
      "roc_auc_score:  0.8554597701149426\n"
     ]
    }
   ],
   "source": [
    "from sklearn.metrics import roc_curve\n",
    "fpr, tpr, thresholds=roc_curve(y, y_scores)\n",
    "\n",
    "def plot_roc_curve(fpr, tpr, label=None):\n",
    "    plt.plot(fpr, tpr, linewidth=2, label=label)\n",
    "    plt.plot([0,1], [0,1], 'k--')\n",
    "    plt.axis([0,1,0,1])\n",
    "    plt.xlabel('FRR')\n",
    "    plt.ylabel('TPR')\n",
    "plot_roc_curve(fpr, tpr)\n",
    "plt.show()\n",
    "\n",
    "from sklearn.metrics import roc_auc_score\n",
    "print(\"roc_auc_score: \", roc_auc_score(y, y_scores))"
   ]
  },
  {
   "cell_type": "code",
   "execution_count": null,
   "id": "9f01b44b",
   "metadata": {},
   "outputs": [],
   "source": []
  }
 ],
 "metadata": {
  "kernelspec": {
   "display_name": "conda_pytorch_p36",
   "language": "python",
   "name": "conda_pytorch_p36"
  },
  "language_info": {
   "codemirror_mode": {
    "name": "ipython",
    "version": 3
   },
   "file_extension": ".py",
   "mimetype": "text/x-python",
   "name": "python",
   "nbconvert_exporter": "python",
   "pygments_lexer": "ipython3",
   "version": "3.6.13"
  }
 },
 "nbformat": 4,
 "nbformat_minor": 5
}
