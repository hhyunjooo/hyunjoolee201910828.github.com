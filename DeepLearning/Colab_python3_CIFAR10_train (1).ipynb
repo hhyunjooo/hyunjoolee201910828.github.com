{
  "nbformat": 4,
  "nbformat_minor": 0,
  "metadata": {
    "colab": {
      "name": "Colab_CIFAR10_train.ipynb",
      "provenance": [],
      "collapsed_sections": []
    },
    "kernelspec": {
      "name": "python3",
      "display_name": "Python 3"
    },
    "language_info": {
      "name": "python"
    },
    "accelerator": "GPU",
    "widgets": {
      "application/vnd.jupyter.widget-state+json": {
        "73856f7ce1d3444093b2642e0fbb27f4": {
          "model_module": "@jupyter-widgets/controls",
          "model_name": "HBoxModel",
          "state": {
            "_view_name": "HBoxView",
            "_dom_classes": [],
            "_model_name": "HBoxModel",
            "_view_module": "@jupyter-widgets/controls",
            "_model_module_version": "1.5.0",
            "_view_count": null,
            "_view_module_version": "1.5.0",
            "box_style": "",
            "layout": "IPY_MODEL_80779681e292481b80dd14694d2ba8ad",
            "_model_module": "@jupyter-widgets/controls",
            "children": [
              "IPY_MODEL_297267a9b1194e3bad1822e5f8c88998",
              "IPY_MODEL_447002275b8348d6992bf1acaedf1f88"
            ]
          }
        },
        "80779681e292481b80dd14694d2ba8ad": {
          "model_module": "@jupyter-widgets/base",
          "model_name": "LayoutModel",
          "state": {
            "_view_name": "LayoutView",
            "grid_template_rows": null,
            "right": null,
            "justify_content": null,
            "_view_module": "@jupyter-widgets/base",
            "overflow": null,
            "_model_module_version": "1.2.0",
            "_view_count": null,
            "flex_flow": null,
            "width": null,
            "min_width": null,
            "border": null,
            "align_items": null,
            "bottom": null,
            "_model_module": "@jupyter-widgets/base",
            "top": null,
            "grid_column": null,
            "overflow_y": null,
            "overflow_x": null,
            "grid_auto_flow": null,
            "grid_area": null,
            "grid_template_columns": null,
            "flex": null,
            "_model_name": "LayoutModel",
            "justify_items": null,
            "grid_row": null,
            "max_height": null,
            "align_content": null,
            "visibility": null,
            "align_self": null,
            "height": null,
            "min_height": null,
            "padding": null,
            "grid_auto_rows": null,
            "grid_gap": null,
            "max_width": null,
            "order": null,
            "_view_module_version": "1.2.0",
            "grid_template_areas": null,
            "object_position": null,
            "object_fit": null,
            "grid_auto_columns": null,
            "margin": null,
            "display": null,
            "left": null
          }
        },
        "297267a9b1194e3bad1822e5f8c88998": {
          "model_module": "@jupyter-widgets/controls",
          "model_name": "FloatProgressModel",
          "state": {
            "_view_name": "ProgressView",
            "style": "IPY_MODEL_d405568535864b4c8d65d4fa5e27611b",
            "_dom_classes": [],
            "description": "",
            "_model_name": "FloatProgressModel",
            "bar_style": "success",
            "max": 170498071,
            "_view_module": "@jupyter-widgets/controls",
            "_model_module_version": "1.5.0",
            "value": 170498071,
            "_view_count": null,
            "_view_module_version": "1.5.0",
            "orientation": "horizontal",
            "min": 0,
            "description_tooltip": null,
            "_model_module": "@jupyter-widgets/controls",
            "layout": "IPY_MODEL_43f1872f6671475e84bcf1b769100b34"
          }
        },
        "447002275b8348d6992bf1acaedf1f88": {
          "model_module": "@jupyter-widgets/controls",
          "model_name": "HTMLModel",
          "state": {
            "_view_name": "HTMLView",
            "style": "IPY_MODEL_55688d219bd147e2ad345705cf85875b",
            "_dom_classes": [],
            "description": "",
            "_model_name": "HTMLModel",
            "placeholder": "​",
            "_view_module": "@jupyter-widgets/controls",
            "_model_module_version": "1.5.0",
            "value": " 170499072/? [00:10&lt;00:00, 15669458.13it/s]",
            "_view_count": null,
            "_view_module_version": "1.5.0",
            "description_tooltip": null,
            "_model_module": "@jupyter-widgets/controls",
            "layout": "IPY_MODEL_28728e7965954bc6814740d339555620"
          }
        },
        "d405568535864b4c8d65d4fa5e27611b": {
          "model_module": "@jupyter-widgets/controls",
          "model_name": "ProgressStyleModel",
          "state": {
            "_view_name": "StyleView",
            "_model_name": "ProgressStyleModel",
            "description_width": "initial",
            "_view_module": "@jupyter-widgets/base",
            "_model_module_version": "1.5.0",
            "_view_count": null,
            "_view_module_version": "1.2.0",
            "bar_color": null,
            "_model_module": "@jupyter-widgets/controls"
          }
        },
        "43f1872f6671475e84bcf1b769100b34": {
          "model_module": "@jupyter-widgets/base",
          "model_name": "LayoutModel",
          "state": {
            "_view_name": "LayoutView",
            "grid_template_rows": null,
            "right": null,
            "justify_content": null,
            "_view_module": "@jupyter-widgets/base",
            "overflow": null,
            "_model_module_version": "1.2.0",
            "_view_count": null,
            "flex_flow": null,
            "width": null,
            "min_width": null,
            "border": null,
            "align_items": null,
            "bottom": null,
            "_model_module": "@jupyter-widgets/base",
            "top": null,
            "grid_column": null,
            "overflow_y": null,
            "overflow_x": null,
            "grid_auto_flow": null,
            "grid_area": null,
            "grid_template_columns": null,
            "flex": null,
            "_model_name": "LayoutModel",
            "justify_items": null,
            "grid_row": null,
            "max_height": null,
            "align_content": null,
            "visibility": null,
            "align_self": null,
            "height": null,
            "min_height": null,
            "padding": null,
            "grid_auto_rows": null,
            "grid_gap": null,
            "max_width": null,
            "order": null,
            "_view_module_version": "1.2.0",
            "grid_template_areas": null,
            "object_position": null,
            "object_fit": null,
            "grid_auto_columns": null,
            "margin": null,
            "display": null,
            "left": null
          }
        },
        "55688d219bd147e2ad345705cf85875b": {
          "model_module": "@jupyter-widgets/controls",
          "model_name": "DescriptionStyleModel",
          "state": {
            "_view_name": "StyleView",
            "_model_name": "DescriptionStyleModel",
            "description_width": "",
            "_view_module": "@jupyter-widgets/base",
            "_model_module_version": "1.5.0",
            "_view_count": null,
            "_view_module_version": "1.2.0",
            "_model_module": "@jupyter-widgets/controls"
          }
        },
        "28728e7965954bc6814740d339555620": {
          "model_module": "@jupyter-widgets/base",
          "model_name": "LayoutModel",
          "state": {
            "_view_name": "LayoutView",
            "grid_template_rows": null,
            "right": null,
            "justify_content": null,
            "_view_module": "@jupyter-widgets/base",
            "overflow": null,
            "_model_module_version": "1.2.0",
            "_view_count": null,
            "flex_flow": null,
            "width": null,
            "min_width": null,
            "border": null,
            "align_items": null,
            "bottom": null,
            "_model_module": "@jupyter-widgets/base",
            "top": null,
            "grid_column": null,
            "overflow_y": null,
            "overflow_x": null,
            "grid_auto_flow": null,
            "grid_area": null,
            "grid_template_columns": null,
            "flex": null,
            "_model_name": "LayoutModel",
            "justify_items": null,
            "grid_row": null,
            "max_height": null,
            "align_content": null,
            "visibility": null,
            "align_self": null,
            "height": null,
            "min_height": null,
            "padding": null,
            "grid_auto_rows": null,
            "grid_gap": null,
            "max_width": null,
            "order": null,
            "_view_module_version": "1.2.0",
            "grid_template_areas": null,
            "object_position": null,
            "object_fit": null,
            "grid_auto_columns": null,
            "margin": null,
            "display": null,
            "left": null
          }
        }
      }
    }
  },
  "cells": [
    {
      "cell_type": "code",
      "metadata": {
        "id": "RYLNvCUcD3Xf"
      },
      "source": [
        "import numpy as np\n",
        "import torch\n",
        "import torch.nn as nn\n",
        "import torch.optim as optim\n",
        "import torch.nn.init as init\n",
        "import torchvision.datasets as dset\n",
        "import torchvision.transforms as transforms\n",
        "from torch.utils.data import DataLoader\n",
        "from torch.autograd import Variable\n",
        "import matplotlib.pyplot as plt\n",
        "\n",
        "from torch.optim import lr_scheduler\n",
        "\n",
        "batch_size=16\n",
        "learning_rate=0.002\n",
        "num_epoch=100"
      ],
      "execution_count": 1,
      "outputs": []
    },
    {
      "cell_type": "code",
      "metadata": {
        "colab": {
          "base_uri": "https://localhost:8080/",
          "height": 119,
          "referenced_widgets": [
            "73856f7ce1d3444093b2642e0fbb27f4",
            "80779681e292481b80dd14694d2ba8ad",
            "297267a9b1194e3bad1822e5f8c88998",
            "447002275b8348d6992bf1acaedf1f88",
            "d405568535864b4c8d65d4fa5e27611b",
            "43f1872f6671475e84bcf1b769100b34",
            "55688d219bd147e2ad345705cf85875b",
            "28728e7965954bc6814740d339555620"
          ]
        },
        "id": "bgJg-78HFWDL",
        "outputId": "ba4e51b0-ae00-4fd8-caf3-dce10cd9823b"
      },
      "source": [
        "#data normalization\n",
        "cifar_train= dset.CIFAR10(\"CIFAR10/\", train=True, \n",
        "                            transform=transforms.Compose([\n",
        "                              transforms.ToTensor(),\n",
        "                              transforms.Normalize(mean=(0.5, 0.5, 0.5), std=(0.5, 0.5, 0.5)),        \n",
        "                           ]), target_transform=None, download=True)\n",
        "cifar_test= dset.CIFAR10(\"CIFAR10/\", train=False, \n",
        "                         transform=transforms.Compose([\n",
        "                             transforms.ToTensor(), \n",
        "                              transforms.Normalize(mean=(0.5, 0.5, 0.5), std=(0.5, 0.5, 0.5)),\n",
        "                         ]), target_transform=None, download=True)"
      ],
      "execution_count": 2,
      "outputs": [
        {
          "output_type": "stream",
          "text": [
            "Downloading https://www.cs.toronto.edu/~kriz/cifar-10-python.tar.gz to CIFAR10/cifar-10-python.tar.gz\n"
          ],
          "name": "stdout"
        },
        {
          "output_type": "display_data",
          "data": {
            "application/vnd.jupyter.widget-view+json": {
              "model_id": "73856f7ce1d3444093b2642e0fbb27f4",
              "version_minor": 0,
              "version_major": 2
            },
            "text/plain": [
              "HBox(children=(FloatProgress(value=0.0, max=170498071.0), HTML(value='')))"
            ]
          },
          "metadata": {
            "tags": []
          }
        },
        {
          "output_type": "stream",
          "text": [
            "\n",
            "Extracting CIFAR10/cifar-10-python.tar.gz to CIFAR10/\n",
            "Files already downloaded and verified\n"
          ],
          "name": "stdout"
        }
      ]
    },
    {
      "cell_type": "code",
      "metadata": {
        "colab": {
          "base_uri": "https://localhost:8080/",
          "height": 369
        },
        "id": "5pqUTLQ-FvVT",
        "outputId": "eb3be876-6446-48cf-c573-29e6cc23fcd2"
      },
      "source": [
        "#실행 x\n",
        "print (\"cifar_train 길이: \", len(cifar_train))\n",
        "print (\"cifar_test 길이: \", len(cifar_test))\n",
        "\n",
        "#데이터 하나 형태\n",
        "image, label=cifar_train.__getitem__(1)\n",
        "print (\"image data 형태:\", image.size())\n",
        "print (\"label: \", label)\n",
        "\n",
        "img=image.numpy()\n",
        "\n",
        "r,g,b=img[0, :, :], img[1,:,:], img[2,:,:]\n",
        "\n",
        "img2=np.zeros((img.shape[1], img.shape[2], img.shape[0]))\n",
        "img2[:,:,0], img2[:,:,1], img2[:,:,2]=r,g,b\n",
        "\n",
        "plt.title(\"label : %d\" %label)\n",
        "plt.imshow(img2,interpolation='bicubic')\n",
        "plt.show()"
      ],
      "execution_count": 3,
      "outputs": [
        {
          "output_type": "stream",
          "text": [
            "Clipping input data to the valid range for imshow with RGB data ([0..1] for floats or [0..255] for integers).\n"
          ],
          "name": "stderr"
        },
        {
          "output_type": "stream",
          "text": [
            "cifar_train 길이:  50000\n",
            "cifar_test 길이:  10000\n",
            "image data 형태: torch.Size([3, 32, 32])\n",
            "label:  9\n"
          ],
          "name": "stdout"
        },
        {
          "output_type": "display_data",
          "data": {
            "image/png": "[encoded data removed]",
            "text/plain": [
              "<Figure size 432x288 with 1 Axes>"
            ]
          },
          "metadata": {
            "tags": [],
            "needs_background": "light"
          }
        }
      ]
    },
    {
      "cell_type": "code",
      "metadata": {
        "id": "lvKugp_4HMpK"
      },
      "source": [
        "def ComputeAccr(dloader, imodel):\n",
        "  correct=0\n",
        "  total=0\n",
        "\n",
        "  for j, [imgs, labels] in enumerate(dloader):\n",
        "      img=Variable(imgs, volatile=True).cuda()\n",
        "      label=Variable(labels).cuda()\n",
        "\n",
        "      output=imodel.forward(img)\n",
        "      _, output_index=torch.max(output, 1)\n",
        "\n",
        "      total+=label.size(0)\n",
        "      correct+=(output_index==label).sum().float()\n",
        "  print(\"Accuracy of Test Data: {}\".format(100*correct/total))"
      ],
      "execution_count": 4,
      "outputs": []
    },
    {
      "cell_type": "code",
      "metadata": {
        "id": "vMI_Cfw1IOfN",
        "colab": {
          "base_uri": "https://localhost:8080/"
        },
        "outputId": "8ffc2b98-055d-4420-9b7b-c0d02336ebfa"
      },
      "source": [
        "train_loader= torch.utils.data.DataLoader(list(cifar_train)[:], batch_size=batch_size, shuffle=True, num_workers=2, drop_last=True)\n",
        "test_loader= torch.utils.data.DataLoader(cifar_test, batch_size=batch_size, shuffle=False, num_workers=2, drop_last=True)\n",
        "#batch normalization\n",
        "#dropout\n",
        "#ELU\n",
        "class CNN(nn.Module):\n",
        "    def __init__(self):\n",
        "      super(CNN,self).__init__()\n",
        "      self.layer=nn.Sequential(\n",
        "        nn.Conv2d(3,16,3,padding=1),\n",
        "        nn.ELU(),\n",
        "        nn.Dropout2d(0.2),\n",
        "        nn.BatchNorm2d(16),\n",
        "        nn.Conv2d(16,32,3,padding=1),\n",
        "        nn.ELU(),\n",
        "        nn.Dropout2d(0.2),\n",
        "        nn.BatchNorm2d(32),\n",
        "        nn.MaxPool2d(2,2),\n",
        "        nn.Conv2d(32,64,3,padding=1),\n",
        "        nn.ELU(),\n",
        "        nn.Dropout2d(0.2),\n",
        "        nn.BatchNorm2d(64),\n",
        "        nn.MaxPool2d(2,2)\n",
        "      )\n",
        "      self.fc_layer=nn.Sequential(\n",
        "          nn.Linear(64*8*8, 100),\n",
        "          nn.ELU(),\n",
        "          nn.Dropout2d(0.2),\n",
        "          nn.BatchNorm1d(100),\n",
        "          nn.Linear(100,10)\n",
        "      )\n",
        "\n",
        "      #weight initialization\n",
        "      for m in self. modules():\n",
        "        if isinstance(m, nn.Conv2d):\n",
        "          init.kaiming_normal(m.weight.data)\n",
        "          m.bias.data.fill_(0)\n",
        "        if isinstance(m, nn.Linear):\n",
        "          init.kaiming_normal(m.weight.data)\n",
        "          m.bias.data.fill_(0)\n",
        "\n",
        "    def forward(self,x):\n",
        "      out=self.layer(x)\n",
        "      out=out.view(batch_size, -1)\n",
        "      out=self.fc_layer(out)\n",
        "\n",
        "      return out\n",
        "model=CNN().cuda()"
      ],
      "execution_count": 5,
      "outputs": [
        {
          "output_type": "stream",
          "text": [
            "/usr/local/lib/python3.7/dist-packages/ipykernel_launcher.py:36: UserWarning: nn.init.kaiming_normal is now deprecated in favor of nn.init.kaiming_normal_.\n",
            "/usr/local/lib/python3.7/dist-packages/ipykernel_launcher.py:39: UserWarning: nn.init.kaiming_normal is now deprecated in favor of nn.init.kaiming_normal_.\n"
          ],
          "name": "stderr"
        }
      ]
    },
    {
      "cell_type": "code",
      "metadata": {
        "colab": {
          "base_uri": "https://localhost:8080/",
          "height": 422
        },
        "id": "jRooA2kHKPFR",
        "outputId": "c5e9441d-73f5-4833-ede5-4ac69be93606"
      },
      "source": [
        "loss_func=nn.CrossEntropyLoss()\n",
        "optimizer=torch.optim.SGD(model.parameters(), lr=learning_rate)\n",
        "#adam optimizer\n",
        "optimizer=torch.optim.Adam(model.parameters(), lr=learning_rate)\n",
        "\n",
        "#learning rate decay\n",
        "#scheduler=lr_scheduler.StepLR(optimizer, step_size=20, gamma=0.2)\n",
        "scheduler=optim.lr_scheduler.ExponentialLR(optimizer, gamma=0.99)\n",
        "\n",
        "model.train()\n",
        "for i in range(num_epoch):\n",
        "  for j,[image, label] in enumerate(train_loader):\n",
        "    x=Variable(image).cuda()\n",
        "    y_=Variable(label).cuda()\n",
        "\n",
        "    optimizer.zero_grad()\n",
        "    output=model.forward(x)\n",
        "    loss=loss_func(output, y_)\n",
        "    loss.backward()\n",
        "    optimizer.step()\n",
        "\n",
        "    if j%1000==0:\n",
        "      print(j,loss)"
      ],
      "execution_count": 11,
      "outputs": [
        {
          "output_type": "stream",
          "text": [
            "0 tensor(0.2232, device='cuda:0', grad_fn=<NllLossBackward>)\n",
            "1000 tensor(0.8076, device='cuda:0', grad_fn=<NllLossBackward>)\n"
          ],
          "name": "stdout"
        },
        {
          "output_type": "error",
          "ename": "KeyboardInterrupt",
          "evalue": "ignored",
          "traceback": [
            "\u001b[0;31m---------------------------------------------------------------------------\u001b[0m",
            "\u001b[0;31mKeyboardInterrupt\u001b[0m                         Traceback (most recent call last)",
            "\u001b[0;32m<ipython-input-11-4a34b4c09b0f>\u001b[0m in \u001b[0;36m<module>\u001b[0;34m()\u001b[0m\n\u001b[1;32m     17\u001b[0m     \u001b[0moutput\u001b[0m\u001b[0;34m=\u001b[0m\u001b[0mmodel\u001b[0m\u001b[0;34m.\u001b[0m\u001b[0mforward\u001b[0m\u001b[0;34m(\u001b[0m\u001b[0mx\u001b[0m\u001b[0;34m)\u001b[0m\u001b[0;34m\u001b[0m\u001b[0;34m\u001b[0m\u001b[0m\n\u001b[1;32m     18\u001b[0m     \u001b[0mloss\u001b[0m\u001b[0;34m=\u001b[0m\u001b[0mloss_func\u001b[0m\u001b[0;34m(\u001b[0m\u001b[0moutput\u001b[0m\u001b[0;34m,\u001b[0m \u001b[0my_\u001b[0m\u001b[0;34m)\u001b[0m\u001b[0;34m\u001b[0m\u001b[0;34m\u001b[0m\u001b[0m\n\u001b[0;32m---> 19\u001b[0;31m     \u001b[0mloss\u001b[0m\u001b[0;34m.\u001b[0m\u001b[0mbackward\u001b[0m\u001b[0;34m(\u001b[0m\u001b[0;34m)\u001b[0m\u001b[0;34m\u001b[0m\u001b[0;34m\u001b[0m\u001b[0m\n\u001b[0m\u001b[1;32m     20\u001b[0m     \u001b[0moptimizer\u001b[0m\u001b[0;34m.\u001b[0m\u001b[0mstep\u001b[0m\u001b[0;34m(\u001b[0m\u001b[0;34m)\u001b[0m\u001b[0;34m\u001b[0m\u001b[0;34m\u001b[0m\u001b[0m\n\u001b[1;32m     21\u001b[0m \u001b[0;34m\u001b[0m\u001b[0m\n",
            "\u001b[0;32m/usr/local/lib/python3.7/dist-packages/torch/tensor.py\u001b[0m in \u001b[0;36mbackward\u001b[0;34m(self, gradient, retain_graph, create_graph, inputs)\u001b[0m\n\u001b[1;32m    243\u001b[0m                 \u001b[0mcreate_graph\u001b[0m\u001b[0;34m=\u001b[0m\u001b[0mcreate_graph\u001b[0m\u001b[0;34m,\u001b[0m\u001b[0;34m\u001b[0m\u001b[0;34m\u001b[0m\u001b[0m\n\u001b[1;32m    244\u001b[0m                 inputs=inputs)\n\u001b[0;32m--> 245\u001b[0;31m         \u001b[0mtorch\u001b[0m\u001b[0;34m.\u001b[0m\u001b[0mautograd\u001b[0m\u001b[0;34m.\u001b[0m\u001b[0mbackward\u001b[0m\u001b[0;34m(\u001b[0m\u001b[0mself\u001b[0m\u001b[0;34m,\u001b[0m \u001b[0mgradient\u001b[0m\u001b[0;34m,\u001b[0m \u001b[0mretain_graph\u001b[0m\u001b[0;34m,\u001b[0m \u001b[0mcreate_graph\u001b[0m\u001b[0;34m,\u001b[0m \u001b[0minputs\u001b[0m\u001b[0;34m=\u001b[0m\u001b[0minputs\u001b[0m\u001b[0;34m)\u001b[0m\u001b[0;34m\u001b[0m\u001b[0;34m\u001b[0m\u001b[0m\n\u001b[0m\u001b[1;32m    246\u001b[0m \u001b[0;34m\u001b[0m\u001b[0m\n\u001b[1;32m    247\u001b[0m     \u001b[0;32mdef\u001b[0m \u001b[0mregister_hook\u001b[0m\u001b[0;34m(\u001b[0m\u001b[0mself\u001b[0m\u001b[0;34m,\u001b[0m \u001b[0mhook\u001b[0m\u001b[0;34m)\u001b[0m\u001b[0;34m:\u001b[0m\u001b[0;34m\u001b[0m\u001b[0;34m\u001b[0m\u001b[0m\n",
            "\u001b[0;32m/usr/local/lib/python3.7/dist-packages/torch/autograd/__init__.py\u001b[0m in \u001b[0;36mbackward\u001b[0;34m(tensors, grad_tensors, retain_graph, create_graph, grad_variables, inputs)\u001b[0m\n\u001b[1;32m    145\u001b[0m     Variable._execution_engine.run_backward(\n\u001b[1;32m    146\u001b[0m         \u001b[0mtensors\u001b[0m\u001b[0;34m,\u001b[0m \u001b[0mgrad_tensors_\u001b[0m\u001b[0;34m,\u001b[0m \u001b[0mretain_graph\u001b[0m\u001b[0;34m,\u001b[0m \u001b[0mcreate_graph\u001b[0m\u001b[0;34m,\u001b[0m \u001b[0minputs\u001b[0m\u001b[0;34m,\u001b[0m\u001b[0;34m\u001b[0m\u001b[0;34m\u001b[0m\u001b[0m\n\u001b[0;32m--> 147\u001b[0;31m         allow_unreachable=True, accumulate_grad=True)  # allow_unreachable flag\n\u001b[0m\u001b[1;32m    148\u001b[0m \u001b[0;34m\u001b[0m\u001b[0m\n\u001b[1;32m    149\u001b[0m \u001b[0;34m\u001b[0m\u001b[0m\n",
            "\u001b[0;31mKeyboardInterrupt\u001b[0m: "
          ]
        }
      ]
    },
    {
      "cell_type": "code",
      "metadata": {
        "colab": {
          "base_uri": "https://localhost:8080/"
        },
        "id": "tUHvpIU8MC4y",
        "outputId": "3bd79f66-ca19-4e3e-cd2d-ceafca381740"
      },
      "source": [
        "model.eval()\n",
        "ComputeAccr(test_loader, model)"
      ],
      "execution_count": 7,
      "outputs": [
        {
          "output_type": "stream",
          "text": [
            "/usr/local/lib/python3.7/dist-packages/ipykernel_launcher.py:6: UserWarning: volatile was removed and now has no effect. Use `with torch.no_grad():` instead.\n",
            "  \n"
          ],
          "name": "stderr"
        },
        {
          "output_type": "stream",
          "text": [
            "Accuracy of Test Data: 76.63999938964844\n"
          ],
          "name": "stdout"
        }
      ]
    },
    {
      "cell_type": "code",
      "metadata": {
        "id": "6-oAg3UsZNBS"
      },
      "source": [
        ""
      ],
      "execution_count": null,
      "outputs": []
    },
    {
      "cell_type": "code",
      "metadata": {
        "id": "0kxFMD0gZNPC"
      },
      "source": [
        ""
      ],
      "execution_count": null,
      "outputs": []
    },
    {
      "cell_type": "code",
      "metadata": {
        "id": "fIQW3PLmZNag"
      },
      "source": [
        ""
      ],
      "execution_count": null,
      "outputs": []
    },
    {
      "cell_type": "markdown",
      "metadata": {
        "id": "vgD7un3KEN-7"
      },
      "source": [
        "기본 훈련"
      ]
    },
    {
      "cell_type": "code",
      "metadata": {
        "id": "MjyFpsJNMSB8"
      },
      "source": [
        "netname='./nets/my_net01.pkl'\n",
        "torch.save(model, netname, )"
      ],
      "execution_count": null,
      "outputs": []
    },
    {
      "cell_type": "code",
      "metadata": {
        "colab": {
          "base_uri": "https://localhost:8080/"
        },
        "id": "BIrIercsPJYY",
        "outputId": "dc935317-7fd0-4133-e764-0e30397a5a05"
      },
      "source": [
        "netname='./nets/my_net01.pkl'\n",
        "\n",
        "model=torch.load(netname)\n",
        "\n",
        "ComputeAccr(test_loader, model)"
      ],
      "execution_count": null,
      "outputs": [
        {
          "output_type": "stream",
          "text": [
            "/usr/local/lib/python3.7/dist-packages/ipykernel_launcher.py:6: UserWarning: volatile was removed and now has no effect. Use `with torch.no_grad():` instead.\n",
            "  \n"
          ],
          "name": "stderr"
        },
        {
          "output_type": "stream",
          "text": [
            "Accuracy of Test Data: 18.639999389648438\n"
          ],
          "name": "stdout"
        }
      ]
    },
    {
      "cell_type": "markdown",
      "metadata": {
        "id": "RND5UcQ2E1ks"
      },
      "source": [
        "Learning rate decay(미리 정의된 개별적인 고정 학습률)"
      ]
    },
    {
      "cell_type": "code",
      "metadata": {
        "id": "WnS1ROFRPRx3"
      },
      "source": [
        "netname='./nets/my_net02.pkl'\n",
        "torch.save(model, netname, )"
      ],
      "execution_count": null,
      "outputs": []
    },
    {
      "cell_type": "code",
      "metadata": {
        "colab": {
          "base_uri": "https://localhost:8080/"
        },
        "id": "kqyaluWSFS48",
        "outputId": "a3b50850-2dbf-407e-84ba-874c3c328a79"
      },
      "source": [
        "netname='./nets/my_net02.pkl'\n",
        "\n",
        "model=torch.load(netname)\n",
        "\n",
        "ComputeAccr(test_loader, model)"
      ],
      "execution_count": null,
      "outputs": [
        {
          "output_type": "stream",
          "text": [
            "/usr/local/lib/python3.7/dist-packages/ipykernel_launcher.py:6: UserWarning: volatile was removed and now has no effect. Use `with torch.no_grad():` instead.\n",
            "  \n"
          ],
          "name": "stderr"
        },
        {
          "output_type": "stream",
          "text": [
            "Accuracy of Test Data: 65.55999755859375\n"
          ],
          "name": "stdout"
        }
      ]
    },
    {
      "cell_type": "code",
      "metadata": {
        "colab": {
          "base_uri": "https://localhost:8080/"
        },
        "id": "GowjxMcdGAmj",
        "outputId": "ecb4c217-75cd-4a29-def5-73946b447aea"
      },
      "source": [
        "from google.colab import drive\n",
        "drive.mount('/content/drive')"
      ],
      "execution_count": null,
      "outputs": [
        {
          "output_type": "stream",
          "text": [
            "Mounted at /content/drive\n"
          ],
          "name": "stdout"
        }
      ]
    },
    {
      "cell_type": "markdown",
      "metadata": {
        "id": "epykAUjkK9Ok"
      },
      "source": [
        "Learning rate decay(지수 기반 스케줄링)"
      ]
    },
    {
      "cell_type": "code",
      "metadata": {
        "id": "pV-FYMKlGKAF"
      },
      "source": [
        "netname='./nets/my_net03.pkl'\n",
        "torch.save(model, netname, )"
      ],
      "execution_count": null,
      "outputs": []
    },
    {
      "cell_type": "code",
      "metadata": {
        "colab": {
          "base_uri": "https://localhost:8080/"
        },
        "id": "bRp3pBlgLniZ",
        "outputId": "4760b798-706d-45d1-c3be-5ea4cec59e0d"
      },
      "source": [
        "netname='./nets/my_net03.pkl'\n",
        "\n",
        "model=torch.load(netname)\n",
        "\n",
        "ComputeAccr(test_loader, model)"
      ],
      "execution_count": null,
      "outputs": [
        {
          "output_type": "stream",
          "text": [
            "/usr/local/lib/python3.7/dist-packages/ipykernel_launcher.py:6: UserWarning: volatile was removed and now has no effect. Use `with torch.no_grad():` instead.\n",
            "  \n"
          ],
          "name": "stderr"
        },
        {
          "output_type": "stream",
          "text": [
            "Accuracy of Test Data: 65.8699951171875\n"
          ],
          "name": "stdout"
        }
      ]
    },
    {
      "cell_type": "markdown",
      "metadata": {
        "id": "DIY2S1McUwUe"
      },
      "source": [
        "지수 기반 스케쥴링: epoch=100"
      ]
    },
    {
      "cell_type": "code",
      "metadata": {
        "id": "pcx8pgEEM3sT"
      },
      "source": [
        "netname='./nets/my_net04.pkl'\n",
        "torch.save(model, netname, )"
      ],
      "execution_count": null,
      "outputs": []
    },
    {
      "cell_type": "code",
      "metadata": {
        "id": "FL3zrRzYU5gx",
        "colab": {
          "base_uri": "https://localhost:8080/"
        },
        "outputId": "84f30d51-c0f2-4ab7-c728-b0796118c485"
      },
      "source": [
        "netname='./nets/my_net04.pkl'\n",
        "\n",
        "model=torch.load(netname)\n",
        "\n",
        "ComputeAccr(test_loader, model)"
      ],
      "execution_count": null,
      "outputs": [
        {
          "output_type": "stream",
          "text": [
            "/usr/local/lib/python3.7/dist-packages/ipykernel_launcher.py:6: UserWarning: volatile was removed and now has no effect. Use `with torch.no_grad():` instead.\n",
            "  \n"
          ],
          "name": "stderr"
        },
        {
          "output_type": "stream",
          "text": [
            "Accuracy of Test Data: 65.97000122070312\n"
          ],
          "name": "stdout"
        }
      ]
    },
    {
      "cell_type": "markdown",
      "metadata": {
        "id": "QjT6uXyMd1E9"
      },
      "source": [
        "지수 100+weight 초기화+adam 옵티마이저"
      ]
    },
    {
      "cell_type": "code",
      "metadata": {
        "colab": {
          "base_uri": "https://localhost:8080/"
        },
        "id": "AkZq8_Oheic_",
        "outputId": "0ad21d08-66d9-43a4-8a59-e042b3ac71f3"
      },
      "source": [
        "from google.colab import drive\n",
        "drive.mount('/content/drive')"
      ],
      "execution_count": null,
      "outputs": [
        {
          "output_type": "stream",
          "text": [
            "Mounted at /content/drive\n"
          ],
          "name": "stdout"
        }
      ]
    },
    {
      "cell_type": "code",
      "metadata": {
        "id": "bbcQzMdbU7EF"
      },
      "source": [
        "netname='./drive/MyDrive/Colab Notebooks/nets/my_net05.pkl'\n",
        "torch.save(model, netname, )"
      ],
      "execution_count": null,
      "outputs": []
    },
    {
      "cell_type": "code",
      "metadata": {
        "colab": {
          "base_uri": "https://localhost:8080/"
        },
        "id": "ZJmV_eikgiKa",
        "outputId": "e9e15293-c0fc-40c3-ef0e-055ef3080a03"
      },
      "source": [
        "netname='./nets/my_net05.pkl'\n",
        "\n",
        "model=torch.load(netname)\n",
        "\n",
        "ComputeAccr(test_loader, model)"
      ],
      "execution_count": null,
      "outputs": [
        {
          "output_type": "stream",
          "text": [
            "/usr/local/lib/python3.7/dist-packages/ipykernel_launcher.py:6: UserWarning: volatile was removed and now has no effect. Use `with torch.no_grad():` instead.\n",
            "  \n"
          ],
          "name": "stderr"
        },
        {
          "output_type": "stream",
          "text": [
            "Accuracy of Test Data: 66.38999938964844\n"
          ],
          "name": "stdout"
        }
      ]
    },
    {
      "cell_type": "code",
      "metadata": {
        "colab": {
          "base_uri": "https://localhost:8080/"
        },
        "id": "cXBWjPXNiHim",
        "outputId": "7ce3dff4-0755-4af8-9522-8eb60a1b196c"
      },
      "source": [
        "netname='./drive/MyDrive/Colab Notebooks/nets/my_net05.pkl'\n",
        "\n",
        "model=torch.load(netname)\n",
        "\n",
        "ComputeAccr(test_loader, model)"
      ],
      "execution_count": null,
      "outputs": [
        {
          "output_type": "stream",
          "text": [
            "/usr/local/lib/python3.7/dist-packages/ipykernel_launcher.py:6: UserWarning: volatile was removed and now has no effect. Use `with torch.no_grad():` instead.\n",
            "  \n"
          ],
          "name": "stderr"
        },
        {
          "output_type": "stream",
          "text": [
            "Accuracy of Test Data: 66.38999938964844\n"
          ],
          "name": "stdout"
        }
      ]
    },
    {
      "cell_type": "code",
      "metadata": {
        "id": "73006u73xoQr"
      },
      "source": [
        ""
      ],
      "execution_count": null,
      "outputs": []
    },
    {
      "cell_type": "markdown",
      "metadata": {
        "id": "lCcJ6gwQxot5"
      },
      "source": [
        "epoch=100+data normalization+batch 정규화+weight 초기화+adam+Learning rate decay(지수 기반 스케줄링)"
      ]
    },
    {
      "cell_type": "code",
      "metadata": {
        "id": "hpbaQcJ89nX0"
      },
      "source": [
        "netname='./drive/MyDrive/Colab Notebooks/nets/my_net06.pkl'\n",
        "torch.save(model, netname, )"
      ],
      "execution_count": null,
      "outputs": []
    },
    {
      "cell_type": "code",
      "metadata": {
        "colab": {
          "base_uri": "https://localhost:8080/"
        },
        "id": "4m2lCcch9r6a",
        "outputId": "18a4b3eb-efe5-4036-b276-a28e10745487"
      },
      "source": [
        "netname='./drive/MyDrive/Colab Notebooks/nets/my_net06.pkl'\n",
        "\n",
        "model=torch.load(netname)\n",
        "\n",
        "ComputeAccr(test_loader, model)"
      ],
      "execution_count": null,
      "outputs": [
        {
          "output_type": "stream",
          "text": [
            "/usr/local/lib/python3.7/dist-packages/ipykernel_launcher.py:6: UserWarning: volatile was removed and now has no effect. Use `with torch.no_grad():` instead.\n",
            "  \n"
          ],
          "name": "stderr"
        },
        {
          "output_type": "stream",
          "text": [
            "Accuracy of Test Data: 74.56999969482422\n"
          ],
          "name": "stdout"
        }
      ]
    },
    {
      "cell_type": "code",
      "metadata": {
        "id": "aKi_fsgE90VA"
      },
      "source": [
        ""
      ],
      "execution_count": null,
      "outputs": []
    },
    {
      "cell_type": "markdown",
      "metadata": {
        "id": "FHjThKvUA2BW"
      },
      "source": [
        "epoch=100+data normalization+batch 정규화+dropout+ELU함수+weight 초기화+adam+Learning rate decay(지수 기반 스케줄링)"
      ]
    },
    {
      "cell_type": "code",
      "metadata": {
        "id": "OX_x50vNJm1Y"
      },
      "source": [
        "netname='./drive/MyDrive/Colab Notebooks/nets/my_net08.pkl'\n",
        "torch.save(model, netname, )"
      ],
      "execution_count": 8,
      "outputs": []
    },
    {
      "cell_type": "code",
      "metadata": {
        "colab": {
          "base_uri": "https://localhost:8080/"
        },
        "id": "TrL2y0-Ww2Ro",
        "outputId": "c04ca738-9ef3-44fc-e297-e65cd0433ee6"
      },
      "source": [
        "netname='./drive/MyDrive/Colab Notebooks/nets/my_net08.pkl'\n",
        "\n",
        "model=torch.load(netname)\n",
        "\n",
        "ComputeAccr(test_loader, model)"
      ],
      "execution_count": 10,
      "outputs": [
        {
          "output_type": "stream",
          "text": [
            "/usr/local/lib/python3.7/dist-packages/ipykernel_launcher.py:6: UserWarning: volatile was removed and now has no effect. Use `with torch.no_grad():` instead.\n",
            "  \n"
          ],
          "name": "stderr"
        },
        {
          "output_type": "stream",
          "text": [
            "Accuracy of Test Data: 76.63999938964844\n"
          ],
          "name": "stdout"
        }
      ]
    },
    {
      "cell_type": "code",
      "metadata": {
        "id": "Agqvu0eFw3if"
      },
      "source": [
        ""
      ],
      "execution_count": null,
      "outputs": []
    }
  ]
}